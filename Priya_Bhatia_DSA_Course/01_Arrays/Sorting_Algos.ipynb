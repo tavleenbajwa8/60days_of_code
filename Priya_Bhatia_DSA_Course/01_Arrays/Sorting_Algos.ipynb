{
 "cells": [
  {
   "cell_type": "code",
   "execution_count": 23,
   "id": "7414cada",
   "metadata": {},
   "outputs": [
    {
     "name": "stdout",
     "output_type": "stream",
     "text": [
      "Before Sorting: [9, 5, 1, 4, 3]\n",
      "After Sorting: [1, 3, 4, 5, 9]\n"
     ]
    }
   ],
   "source": [
    "#Insertion Sort\n",
    "arr = [9, 5, 1, 4, 3]\n",
    "print(\"Before Sorting:\", arr)\n",
    "for i in range(1, len(arr)):\n",
    "    key = arr[i]\n",
    "    j = i - 1\n",
    "    \n",
    "    while j >= 0 and key < arr[j]:\n",
    "        arr[j + 1] = arr[j]\n",
    "        j = j - 1\n",
    "    arr[j + 1] = key\n",
    "print(\"After Sorting:\",arr)"
   ]
  },
  {
   "cell_type": "code",
   "execution_count": 24,
   "id": "f22b6e1d",
   "metadata": {},
   "outputs": [
    {
     "name": "stdout",
     "output_type": "stream",
     "text": [
      "Before Sorting: [50, 38, 45, 79, 19, 27, 29]\n",
      "After Sorting: [19, 27, 29, 38, 45, 50, 79]\n"
     ]
    }
   ],
   "source": [
    "## Selection Sort \n",
    "\n",
    "arr = [50, 38, 45, 79, 19, 27, 29]\n",
    "print(\"Before Sorting:\", arr)\n",
    "n = len(arr)\n",
    "for i in range(n):\n",
    "    min_idx = i\n",
    "    for j in range(i + 1,n):\n",
    "        if arr[j] < arr[min_idx]:\n",
    "            min_idx = j \n",
    "    arr[i], arr[min_idx] = arr[min_idx], arr[i]\n",
    "print(\"After Sorting:\",arr)"
   ]
  },
  {
   "cell_type": "code",
   "execution_count": 25,
   "id": "016fbcf7",
   "metadata": {},
   "outputs": [
    {
     "name": "stdout",
     "output_type": "stream",
     "text": [
      "Before Sorting: [50, 38, 45, 79, 19, 27, 29]\n",
      "After Sorting: [19, 27, 29, 38, 45, 50, 79]\n"
     ]
    }
   ],
   "source": [
    "##Bubble Sort\n",
    "arr = [50, 38, 45, 79, 19, 27, 29]\n",
    "print(\"Before Sorting:\", arr)\n",
    "\n",
    "n = len(arr)\n",
    "for i in range(n):\n",
    "    for j in range(n-i-1):\n",
    "        if arr[j] > arr[j+1]:\n",
    "            arr[j], arr[j+1] = arr[j+1], arr[j]\n",
    "print(\"After Sorting:\",arr)"
   ]
  },
  {
   "cell_type": "code",
   "execution_count": null,
   "id": "0f49b868",
   "metadata": {},
   "outputs": [],
   "source": []
  },
  {
   "cell_type": "code",
   "execution_count": null,
   "id": "2f41f04b",
   "metadata": {},
   "outputs": [],
   "source": []
  }
 ],
 "metadata": {
  "kernelspec": {
   "display_name": "Python 3 (ipykernel)",
   "language": "python",
   "name": "python3"
  },
  "language_info": {
   "codemirror_mode": {
    "name": "ipython",
    "version": 3
   },
   "file_extension": ".py",
   "mimetype": "text/x-python",
   "name": "python",
   "nbconvert_exporter": "python",
   "pygments_lexer": "ipython3",
   "version": "3.9.13"
  }
 },
 "nbformat": 4,
 "nbformat_minor": 5
}

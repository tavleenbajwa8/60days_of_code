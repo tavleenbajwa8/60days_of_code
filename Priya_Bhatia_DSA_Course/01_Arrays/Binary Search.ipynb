{
 "cells": [
  {
   "cell_type": "code",
   "execution_count": 4,
   "id": "411da5a8",
   "metadata": {},
   "outputs": [],
   "source": [
    "def binarySearch(arr, start, end, target):\n",
    "    ##Single element array\n",
    "    if start == end:\n",
    "        if arr[start] == target:\n",
    "            return start\n",
    "        else:\n",
    "            return -start\n",
    "    \n",
    "    else:\n",
    "        mid = start + (end-start)//2\n",
    "        \n",
    "        ##Checking if mid element is the target element\n",
    "        if arr[mid] == target:\n",
    "            return mid\n",
    "        elif arr[mid] < target:\n",
    "            return binarySearch(arr, mid+1, end, target)\n",
    "        else:\n",
    "            return binarySearch(arr, start, mid-1, target)"
   ]
  },
  {
   "cell_type": "code",
   "execution_count": 5,
   "id": "8556b9b5",
   "metadata": {},
   "outputs": [
    {
     "data": {
      "text/plain": [
       "7"
      ]
     },
     "execution_count": 5,
     "metadata": {},
     "output_type": "execute_result"
    }
   ],
   "source": [
    "arr1 = [2,4,6,8,12,25,30,37,47]\n",
    "binarySearch(arr1, 0, len(arr1), 37)"
   ]
  },
  {
   "cell_type": "code",
   "execution_count": 6,
   "id": "a0cf20bd",
   "metadata": {},
   "outputs": [],
   "source": [
    "##Interview questions related to Binary Search \n"
   ]
  },
  {
   "cell_type": "code",
   "execution_count": 64,
   "id": "9f461b8e",
   "metadata": {},
   "outputs": [
    {
     "data": {
      "text/plain": [
       "[-30, 0, 5, 7, 10, 20, 29, inf, inf, inf, inf]"
      ]
     },
     "execution_count": 64,
     "metadata": {},
     "output_type": "execute_result"
    }
   ],
   "source": [
    "# Given an array\n",
    "import numpy as np\n",
    "arr_ = [20, -30, 10, 5, 7, 0, 29, np.inf , np.inf, np.inf, np.inf]\n",
    "arr = sorted(arr_)\n",
    "# Find the index of 1st infinite element \n",
    "arr"
   ]
  },
  {
   "cell_type": "code",
   "execution_count": 65,
   "id": "42c1c739",
   "metadata": {},
   "outputs": [],
   "source": [
    "# max_val = float('-inf')\n",
    "# for i in range(len(arr)):\n",
    "#     if arr[i] > max_val and arr[i] < float('inf'):\n",
    "#         max_val = arr[i]\n",
    "# print(max_val)"
   ]
  },
  {
   "cell_type": "code",
   "execution_count": 66,
   "id": "c8224d17",
   "metadata": {},
   "outputs": [
    {
     "name": "stdout",
     "output_type": "stream",
     "text": [
      "29\n"
     ]
    }
   ],
   "source": [
    "target = float('-inf')\n",
    "for i in range(len(arr)):\n",
    "    if arr[i] > target and arr[i] < float('inf'):\n",
    "        target = arr[i]\n",
    "print(target)"
   ]
  },
  {
   "cell_type": "code",
   "execution_count": 67,
   "id": "42510c09",
   "metadata": {},
   "outputs": [],
   "source": [
    "def binarySearch(arr, start, end, target):\n",
    "    ##Single element array\n",
    "    if start == end:\n",
    "        if arr[start] == target:\n",
    "            return start\n",
    "        else:\n",
    "            return -start\n",
    "    \n",
    "    else:\n",
    "        mid = start + (end-start)//2\n",
    "        \n",
    "        ##Checking if mid element is the target element\n",
    "        if arr[mid] == target:\n",
    "            return mid\n",
    "        elif arr[mid] < target:\n",
    "            return binarySearch(arr, mid+1, end, target) \n",
    "        else:\n",
    "            return binarySearch(arr, start, mid-1, target) "
   ]
  },
  {
   "cell_type": "code",
   "execution_count": 68,
   "id": "b805625f",
   "metadata": {},
   "outputs": [
    {
     "data": {
      "text/plain": [
       "7"
      ]
     },
     "execution_count": 68,
     "metadata": {},
     "output_type": "execute_result"
    }
   ],
   "source": [
    "result = binarySearch(arr, start, end, max_val) + 1\n",
    "result"
   ]
  },
  {
   "cell_type": "code",
   "execution_count": 69,
   "id": "306f41e7",
   "metadata": {},
   "outputs": [],
   "source": [
    "##Other More optimized solution "
   ]
  },
  {
   "cell_type": "code",
   "execution_count": null,
   "id": "ed37b8a8",
   "metadata": {},
   "outputs": [],
   "source": []
  },
  {
   "cell_type": "code",
   "execution_count": null,
   "id": "304c47e3",
   "metadata": {},
   "outputs": [],
   "source": []
  },
  {
   "cell_type": "code",
   "execution_count": null,
   "id": "e62785c4",
   "metadata": {},
   "outputs": [],
   "source": [
    "##Interview Question: Search 2D Sorted Matrix"
   ]
  },
  {
   "cell_type": "code",
   "execution_count": 70,
   "id": "1887bbf8",
   "metadata": {},
   "outputs": [],
   "source": [
    "##Brute Force Approach"
   ]
  },
  {
   "cell_type": "code",
   "execution_count": 131,
   "id": "59012bf8",
   "metadata": {},
   "outputs": [],
   "source": [
    "arr = [[1,3,5,7], [10,11,16,20], [23, 30,34, 60]]"
   ]
  },
  {
   "cell_type": "code",
   "execution_count": 132,
   "id": "6093ecd0",
   "metadata": {},
   "outputs": [
    {
     "data": {
      "text/plain": [
       "[[1, 3, 5, 7], [10, 11, 16, 20], [23, 30, 34, 60]]"
      ]
     },
     "execution_count": 132,
     "metadata": {},
     "output_type": "execute_result"
    }
   ],
   "source": [
    "arr"
   ]
  },
  {
   "cell_type": "code",
   "execution_count": 129,
   "id": "675defac",
   "metadata": {},
   "outputs": [
    {
     "data": {
      "text/plain": [
       "[1, 3, 5, 7, 10, 11, 16, 20, 23, 30, 34, 60]"
      ]
     },
     "execution_count": 129,
     "metadata": {},
     "output_type": "execute_result"
    }
   ],
   "source": [
    "e_arr = [j for i in arr for j in i]\n",
    "e_arr"
   ]
  },
  {
   "cell_type": "code",
   "execution_count": 102,
   "id": "d165f352",
   "metadata": {},
   "outputs": [],
   "source": [
    "## Using Binary Searh Method: Making Virtual array (Row major form)\n",
    "\n",
    "# n = No.of Columns\n",
    "# m = No.of Rows \n",
    "\n",
    "#Finding Index using Mid value = \n",
    "n = 4\n",
    "start = 0\n",
    "end = 10\n",
    "mid = (start + end)//2 \n",
    "row_index = mid//n\n",
    "column_index = mid%n "
   ]
  },
  {
   "cell_type": "code",
   "execution_count": 103,
   "id": "c2fcb952",
   "metadata": {},
   "outputs": [
    {
     "data": {
      "text/plain": [
       "1"
      ]
     },
     "execution_count": 103,
     "metadata": {},
     "output_type": "execute_result"
    }
   ],
   "source": [
    "row_index"
   ]
  },
  {
   "cell_type": "code",
   "execution_count": 104,
   "id": "74bcaf76",
   "metadata": {},
   "outputs": [
    {
     "data": {
      "text/plain": [
       "1"
      ]
     },
     "execution_count": 104,
     "metadata": {},
     "output_type": "execute_result"
    }
   ],
   "source": [
    "column_index"
   ]
  },
  {
   "cell_type": "code",
   "execution_count": 106,
   "id": "e11ed69b",
   "metadata": {},
   "outputs": [
    {
     "data": {
      "text/plain": [
       "11"
      ]
     },
     "execution_count": 106,
     "metadata": {},
     "output_type": "execute_result"
    }
   ],
   "source": [
    "arr[row_index][column_index]"
   ]
  },
  {
   "cell_type": "markdown",
   "id": "da6726c7",
   "metadata": {},
   "source": [
    "# Priya Bhatia Solution "
   ]
  },
  {
   "cell_type": "code",
   "execution_count": 137,
   "id": "1667b013",
   "metadata": {},
   "outputs": [
    {
     "name": "stdout",
     "output_type": "stream",
     "text": [
      "False\n"
     ]
    }
   ],
   "source": [
    "##Function definition \n",
    "\n",
    "def search_sorted2D(matrix, target):\n",
    "    ## No.of Rows\n",
    "    m = len(matrix)\n",
    "    if m == 0:\n",
    "        return False\n",
    "    ## No. of Columns\n",
    "    \n",
    "    n = len(matrix[0])\n",
    "    \n",
    "    ##Defining starting and ending index (left: start, right: end)\n",
    "    \n",
    "    ## Binary Search Implementation \n",
    "    left, right = 0, m*n-1\n",
    "    \n",
    "    while left <= right:\n",
    "        mid = left + (right - left)//2\n",
    "        ## Extracting the elements from 2D array\n",
    "        ## Row number = mid//n\n",
    "        ## Column number = mid%n\n",
    "        mid_element = matrix[mid//n][mid%n]\n",
    "        if target == mid_element:\n",
    "            return True\n",
    "        \n",
    "        elif target < mid_element:\n",
    "            right = mid -1\n",
    "        else:\n",
    "            left = mid + 1\n",
    "    return False\n",
    "        \n",
    "##Driver code\n",
    "\n",
    "matrix = [[1,3,5,7], [10,11,16,20], [23, 30, 34, 60]]\n",
    "target = 12\n",
    "\n",
    "##Function Calling\n",
    "result = search_sorted2D(matrix, target)\n",
    "print(result)"
   ]
  },
  {
   "cell_type": "markdown",
   "id": "081e70af",
   "metadata": {},
   "source": [
    "# My Solution: Print the Index also"
   ]
  },
  {
   "cell_type": "code",
   "execution_count": 178,
   "id": "def4c2fc",
   "metadata": {},
   "outputs": [],
   "source": [
    "def search2D(matrix, target):\n",
    "    ## No. of rows \n",
    "    m = len(matrix)\n",
    "    if m == 0:\n",
    "        return False\n",
    "    ## No. of Columns \n",
    "    n = len(matrix[0])\n",
    "    \n",
    "    start, end = 0, m*n-1\n",
    "    \n",
    "    while start <= end:\n",
    "        mid = start + (end-start)//2\n",
    "        mid_element = matrix[mid//n][mid%n]\n",
    "        ## Conditions\n",
    "        \n",
    "        if mid_element == target:\n",
    "            return True, mid//n , mid%n\n",
    "        \n",
    "        elif mid_element < target:\n",
    "            start = mid + 1   \n",
    "        else:\n",
    "            end = mid-1\n",
    "    \n",
    "    return False, -1, -1\n",
    "\n",
    "        \n",
    "    "
   ]
  },
  {
   "cell_type": "code",
   "execution_count": 182,
   "id": "9bd7f02f",
   "metadata": {},
   "outputs": [
    {
     "name": "stdout",
     "output_type": "stream",
     "text": [
      "True\n",
      "Row index: 0\n",
      "Column index 1\n"
     ]
    }
   ],
   "source": [
    "matrix = [[1,3,5,7], [10,11,16,20], [23, 30, 34, 60]]\n",
    "target = 3 \n",
    "result, row, col = search2D(matrix, target)\n",
    "print(result)\n",
    "print(\"Row index:\", row)\n",
    "print(\"Column index\", col)"
   ]
  },
  {
   "cell_type": "code",
   "execution_count": 183,
   "id": "509af3b0",
   "metadata": {},
   "outputs": [],
   "source": [
    "##Geeks for Geeks\n"
   ]
  },
  {
   "cell_type": "code",
   "execution_count": null,
   "id": "d3722ecc",
   "metadata": {},
   "outputs": [],
   "source": []
  },
  {
   "cell_type": "code",
   "execution_count": null,
   "id": "de0ad46f",
   "metadata": {},
   "outputs": [],
   "source": []
  },
  {
   "cell_type": "code",
   "execution_count": null,
   "id": "9f043dd5",
   "metadata": {},
   "outputs": [],
   "source": []
  }
 ],
 "metadata": {
  "kernelspec": {
   "display_name": "Python 3 (ipykernel)",
   "language": "python",
   "name": "python3"
  },
  "language_info": {
   "codemirror_mode": {
    "name": "ipython",
    "version": 3
   },
   "file_extension": ".py",
   "mimetype": "text/x-python",
   "name": "python",
   "nbconvert_exporter": "python",
   "pygments_lexer": "ipython3",
   "version": "3.9.12"
  }
 },
 "nbformat": 4,
 "nbformat_minor": 5
}
